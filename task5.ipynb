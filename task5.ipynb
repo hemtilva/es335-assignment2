{
 "cells": [
  {
   "cell_type": "code",
   "execution_count": 1,
   "id": "f0c2a9d7",
   "metadata": {},
   "outputs": [],
   "source": [
    "import numpy as np\n",
    "import pandas as pd\n",
    "import torch"
   ]
  },
  {
   "cell_type": "code",
   "execution_count": 14,
   "id": "5c155407",
   "metadata": {},
   "outputs": [],
   "source": [
    "class LogisticTorch:\n",
    "    def __init__(self, lr=0.01, epochs=1000,epsilon = 1e-6):\n",
    "        self.lr = lr\n",
    "        self.epochs = epochs\n",
    "        self.epsilon = epsilon\n",
    "        self.theta = None\n",
    "        self.loss_history = list()\n",
    "        \n",
    "\n",
    "    def fit(self, X, y):\n",
    "        X = torch.tensor(X,dtype = torch.float32)\n",
    "        y = torch.tensor(y,dtype = torch.float32).view(-1,1)\n",
    "        ones = torch.ones((X.shape[0],1))\n",
    "        X = torch.cat((ones,X), dim = 1)\n",
    "        self.theta = torch.zeros((X.shape[1],1), dtype = torch.float32)\n",
    "\n",
    "        for epoch in range(self.epochs):\n",
    "            logits = X @ self.theta\n",
    "            y_hat = torch.sigmoid(logits)\n",
    "            grad = X.T @(y_hat - y)/len(y)\n",
    "            oldtheta = self.theta.clone()\n",
    "            loss = torch.mean((y_hat-y)**2)\n",
    "            self.loss_history.append(loss)\n",
    "            self.theta = self.theta - self.lr*grad\n",
    "\n",
    "            if torch.norm(self.theta - oldtheta) < self.epsilon:\n",
    "                print(f\"Converged at epoch {epoch}\")\n",
    "                print(f\"Final Loss in Model {loss.item():.5f}\")\n",
    "                break\n",
    "        self.loss_history = torch.tensor(self.loss_history,dtype=torch.float32)\n",
    "\n",
    "        \n",
    "\n",
    "    def predict(self, X):\n",
    "        X = torch.tensor(X, dtype = torch.float32)\n",
    "        ones = torch.ones((X.shape[0],1),dtype = torch.float32)\n",
    "        X = torch.cat((ones,X), dim =1 )\n",
    "        logits = X @ self.theta\n",
    "        return (logits>=0).float()\n",
    "\n",
    "    def predict_proba(self, X):\n",
    "        X = torch.tensor(X, dtype = torch.float32)\n",
    "        ones = torch.ones((X.shape[0],1),dtype = torch.float32)\n",
    "        X = torch.cat((ones,X), dim =1 )\n",
    "        logits = X @ self.theta\n",
    "        return torch.sigmoid(logits)\n"
   ]
  },
  {
   "cell_type": "code",
   "execution_count": null,
   "id": "441ab1c5",
   "metadata": {},
   "outputs": [],
   "source": [
    "from sklearn.datasets import make_moons\n",
    "\n",
    "X, y = make_moons(n_samples=200, noise=0.2, random_state=42)\n"
   ]
  },
  {
   "cell_type": "code",
   "execution_count": 33,
   "id": "589342d4",
   "metadata": {},
   "outputs": [
    {
     "name": "stderr",
     "output_type": "stream",
     "text": [
      "C:\\Users\\krish.HP.000\\AppData\\Local\\Temp\\ipykernel_12000\\371791637.py:8: UserWarning: To copy construct from a tensor, it is recommended to use sourceTensor.detach().clone() or sourceTensor.detach().clone().requires_grad_(True), rather than torch.tensor(sourceTensor).\n",
      "  y_train = torch.tensor(y[:train_size], dtype = torch.float32).view(-1,1)\n",
      "C:\\Users\\krish.HP.000\\AppData\\Local\\Temp\\ipykernel_12000\\371791637.py:11: UserWarning: To copy construct from a tensor, it is recommended to use sourceTensor.detach().clone() or sourceTensor.detach().clone().requires_grad_(True), rather than torch.tensor(sourceTensor).\n",
      "  y_test= torch.tensor(y[train_size:], dtype = torch.float32).view(-1,1)\n"
     ]
    },
    {
     "data": {
      "text/html": [
       "<div>\n",
       "<style scoped>\n",
       "    .dataframe tbody tr th:only-of-type {\n",
       "        vertical-align: middle;\n",
       "    }\n",
       "\n",
       "    .dataframe tbody tr th {\n",
       "        vertical-align: top;\n",
       "    }\n",
       "\n",
       "    .dataframe thead th {\n",
       "        text-align: right;\n",
       "    }\n",
       "</style>\n",
       "<table border=\"1\" class=\"dataframe\">\n",
       "  <thead>\n",
       "    <tr style=\"text-align: right;\">\n",
       "      <th></th>\n",
       "      <th>0</th>\n",
       "      <th>1</th>\n",
       "    </tr>\n",
       "  </thead>\n",
       "  <tbody>\n",
       "    <tr>\n",
       "      <th>0</th>\n",
       "      <td>-1.106897</td>\n",
       "      <td>0.042293</td>\n",
       "    </tr>\n",
       "    <tr>\n",
       "      <th>1</th>\n",
       "      <td>0.956800</td>\n",
       "      <td>0.456750</td>\n",
       "    </tr>\n",
       "    <tr>\n",
       "      <th>2</th>\n",
       "      <td>0.733516</td>\n",
       "      <td>0.584617</td>\n",
       "    </tr>\n",
       "    <tr>\n",
       "      <th>3</th>\n",
       "      <td>1.111407</td>\n",
       "      <td>-0.309214</td>\n",
       "    </tr>\n",
       "    <tr>\n",
       "      <th>4</th>\n",
       "      <td>0.209082</td>\n",
       "      <td>0.000657</td>\n",
       "    </tr>\n",
       "  </tbody>\n",
       "</table>\n",
       "</div>"
      ],
      "text/plain": [
       "          0         1\n",
       "0 -1.106897  0.042293\n",
       "1  0.956800  0.456750\n",
       "2  0.733516  0.584617\n",
       "3  1.111407 -0.309214\n",
       "4  0.209082  0.000657"
      ]
     },
     "execution_count": 33,
     "metadata": {},
     "output_type": "execute_result"
    }
   ],
   "source": [
    "split_ratio = 0.8\n",
    "\n",
    "train_size = int(len(X)*split_ratio)\n",
    "X_train = X[:train_size]\n",
    "X_test = X[train_size:]\n",
    "\n",
    "X_train = torch.tensor(X[:train_size], dtype = torch.float32)\n",
    "y_train = torch.tensor(y[:train_size], dtype = torch.float32).view(-1,1)\n",
    "\n",
    "X_test = torch.tensor(X[train_size:], dtype = torch.float32)\n",
    "y_test= torch.tensor(y[train_size:], dtype = torch.float32).view(-1,1)\n",
    "\n",
    "pd.DataFrame(X_train).head()"
   ]
  },
  {
   "cell_type": "code",
   "execution_count": 36,
   "id": "7003b46a",
   "metadata": {},
   "outputs": [
    {
     "name": "stderr",
     "output_type": "stream",
     "text": [
      "C:\\Users\\krish.HP.000\\AppData\\Local\\Temp\\ipykernel_12000\\2564597551.py:11: UserWarning: To copy construct from a tensor, it is recommended to use sourceTensor.detach().clone() or sourceTensor.detach().clone().requires_grad_(True), rather than torch.tensor(sourceTensor).\n",
      "  X = torch.tensor(X,dtype = torch.float32)\n",
      "C:\\Users\\krish.HP.000\\AppData\\Local\\Temp\\ipykernel_12000\\2564597551.py:12: UserWarning: To copy construct from a tensor, it is recommended to use sourceTensor.detach().clone() or sourceTensor.detach().clone().requires_grad_(True), rather than torch.tensor(sourceTensor).\n",
      "  y = torch.tensor(y,dtype = torch.float32).view(-1,1)\n",
      "C:\\Users\\krish.HP.000\\AppData\\Local\\Temp\\ipykernel_12000\\2564597551.py:35: UserWarning: To copy construct from a tensor, it is recommended to use sourceTensor.detach().clone() or sourceTensor.detach().clone().requires_grad_(True), rather than torch.tensor(sourceTensor).\n",
      "  X = torch.tensor(X, dtype = torch.float32)\n",
      "C:\\Users\\krish.HP.000\\AppData\\Local\\Temp\\ipykernel_12000\\2564597551.py:42: UserWarning: To copy construct from a tensor, it is recommended to use sourceTensor.detach().clone() or sourceTensor.detach().clone().requires_grad_(True), rather than torch.tensor(sourceTensor).\n",
      "  X = torch.tensor(X, dtype = torch.float32)\n"
     ]
    }
   ],
   "source": [
    "model = LogisticTorch()\n",
    "model.fit(X_train,y_train)\n",
    "y_hat_train = model.predict(X_train)\n",
    "y_hat_train_probs = model.predict_proba(X_train)\n"
   ]
  },
  {
   "cell_type": "code",
   "execution_count": null,
   "id": "4402b0a5",
   "metadata": {},
   "outputs": [
    {
     "name": "stdout",
     "output_type": "stream",
     "text": [
      "training accuracy: 0.8188\n"
     ]
    },
    {
     "name": "stderr",
     "output_type": "stream",
     "text": [
      "C:\\Users\\krish.HP.000\\AppData\\Local\\Temp\\ipykernel_12000\\97020096.py:1: UserWarning: To copy construct from a tensor, it is recommended to use sourceTensor.detach().clone() or sourceTensor.detach().clone().requires_grad_(True), rather than torch.tensor(sourceTensor).\n",
      "  y_train = torch.tensor(y_train).view(-1,1)\n"
     ]
    }
   ],
   "source": [
    "y_train = torch.tensor(y_train).view(-1,1)\n",
    "train_accuracy = (y_hat_train == y_train).float().mean()\n",
    "print(f\"training accuracy: {train_accuracy:.4f}\")\n"
   ]
  },
  {
   "cell_type": "code",
   "execution_count": 47,
   "id": "063b7619",
   "metadata": {},
   "outputs": [
    {
     "name": "stdout",
     "output_type": "stream",
     "text": [
      "test accuracy: 0.8500\n",
      "torch.Size([40, 1])\n",
      "torch.Size([40, 1])\n"
     ]
    },
    {
     "name": "stderr",
     "output_type": "stream",
     "text": [
      "C:\\Users\\krish.HP.000\\AppData\\Local\\Temp\\ipykernel_12000\\2564597551.py:35: UserWarning: To copy construct from a tensor, it is recommended to use sourceTensor.detach().clone() or sourceTensor.detach().clone().requires_grad_(True), rather than torch.tensor(sourceTensor).\n",
      "  X = torch.tensor(X, dtype = torch.float32)\n",
      "C:\\Users\\krish.HP.000\\AppData\\Local\\Temp\\ipykernel_12000\\1539583911.py:2: UserWarning: To copy construct from a tensor, it is recommended to use sourceTensor.detach().clone() or sourceTensor.detach().clone().requires_grad_(True), rather than torch.tensor(sourceTensor).\n",
      "  test_accuracy = (y_hat_test == torch.tensor(y_test).view(-1,1)).float().mean()\n"
     ]
    }
   ],
   "source": [
    "y_hat_test = model.predict(X_test)\n",
    "test_accuracy = (y_hat_test == torch.tensor(y_test).view(-1,1)).float().mean()\n",
    "print(f\"test accuracy: {test_accuracy:.4f}\")\n",
    "\n",
    "print(y_hat_test.shape)\n",
    "print(y_test.shape)\n"
   ]
  },
  {
   "cell_type": "code",
   "execution_count": 48,
   "id": "87809789",
   "metadata": {},
   "outputs": [
    {
     "name": "stdout",
     "output_type": "stream",
     "text": [
      "Recall: 0.818\n",
      "Precision: 0.900\n"
     ]
    }
   ],
   "source": [
    "true_positive = ((y_hat_test == 1) & (y_test == 1)).float().sum()\n",
    "false_positive = ((y_hat_test == 1) & (y_test == 0)).float().sum()\n",
    "true_negative = ((y_hat_test == 0) & (y_test == 0)).float().sum()\n",
    "false_negative = ((y_hat_test == 0) & (y_test == 1) ).float().sum()\n",
    "\n",
    "recall = true_positive/(true_positive+false_negative)\n",
    "precision = true_positive/(true_positive+false_positive)\n",
    "\n",
    "print(f\"Recall: {recall:.3f}\")\n",
    "print(f\"Precision: {precision:.3f}\")"
   ]
  },
  {
   "cell_type": "code",
   "execution_count": null,
   "id": "b36ef482",
   "metadata": {},
   "outputs": [],
   "source": []
  }
 ],
 "metadata": {
  "kernelspec": {
   "display_name": "Python 3",
   "language": "python",
   "name": "python3"
  },
  "language_info": {
   "codemirror_mode": {
    "name": "ipython",
    "version": 3
   },
   "file_extension": ".py",
   "mimetype": "text/x-python",
   "name": "python",
   "nbconvert_exporter": "python",
   "pygments_lexer": "ipython3",
   "version": "3.11.9"
  }
 },
 "nbformat": 4,
 "nbformat_minor": 5
}
