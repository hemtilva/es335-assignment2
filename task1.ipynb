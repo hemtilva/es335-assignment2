{
 "cells": [
  {
   "cell_type": "code",
   "execution_count": 1,
   "id": "7e8c60e1",
   "metadata": {},
   "outputs": [],
   "source": [
    "import numpy as np\n",
    "import matplotlib.pyplot as plt\n",
    "import pandas as pd\n",
    "import torch\n",
    "import os"
   ]
  },
  {
   "cell_type": "markdown",
   "id": "3b2f0464",
   "metadata": {},
   "source": [
    "### Dataset Generation"
   ]
  },
  {
   "cell_type": "code",
   "execution_count": 2,
   "id": "0dbb4db5",
   "metadata": {},
   "outputs": [],
   "source": [
    "num_samples = 40\n",
    "np.random.seed(45) \n",
    "    \n",
    "# Generate data\n",
    "x1 = np.random.uniform(-20, 20, num_samples)\n",
    "f_x = 100*x1 + 1\n",
    "eps = np.random.randn(num_samples)\n",
    "y1 = f_x + eps\n",
    "\n",
    "np.random.seed(45)\n",
    "num_samples = 40\n",
    "    \n",
    "# Generate data\n",
    "x2 = np.random.uniform(-1, 1, num_samples)\n",
    "f_x = 3*x2 + 4\n",
    "eps = np.random.randn(num_samples)\n",
    "y2 = f_x + eps"
   ]
  },
  {
   "cell_type": "code",
   "execution_count": null,
   "id": "c8cc1ea9",
   "metadata": {},
   "outputs": [],
   "source": [
    "def mse_loss(X,y, theta):\n",
    "    pred = X @ theta\n",
    "    return 0.5 * torch.mean((y-pred)**2)"
   ]
  },
  {
   "cell_type": "code",
   "execution_count": null,
   "id": "3150267b",
   "metadata": {},
   "outputs": [],
   "source": [
    "def comp_grad(X, y, theta):\n",
    "    n = X.shape[0]\n",
    "    grad = -(X.T @ (y- X @ theta))/n\n",
    "    return grad"
   ]
  },
  {
   "cell_type": "code",
   "execution_count": 7,
   "id": "ae2bd5b2",
   "metadata": {},
   "outputs": [],
   "source": [
    "def fullgd(X, y, theta_star, lr=0.0001, eps=0.001, max_epoch=200):\n",
    "    theta = torch.zeros(X.shape[1])\n",
    "    losses, path = [],[]\n",
    "    steps = 0\n",
    "\n",
    "    for epoch in range(max_epoch):\n",
    "        loss = mse_loss(X,y,theta)\n",
    "        losses.append(loss.item())\n",
    "        path.append(theta.clone().numpy())\n",
    "\n",
    "        grad = comp_grad(X,y,theta)\n",
    "        theta -= lr*grad\n",
    "\n",
    "        steps += 1\n",
    "\n",
    "        if torch.norm(theta - theta_star) < eps:\n",
    "            break\n",
    "    \n",
    "    return theta, losses, np.array(path), steps"
   ]
  },
  {
   "cell_type": "code",
   "execution_count": 8,
   "id": "86cebb58",
   "metadata": {},
   "outputs": [],
   "source": [
    "def sgd(X, y, theta_star, lr=0.0001, eps=0.001, max_epoch=200):\n",
    "    theta = torch.zeros(X.shape[1])\n",
    "    losses, path = [],[]\n",
    "    steps = 0\n",
    "    n = X.shape[0]\n",
    "\n",
    "    for epoch in range(max_epoch):\n",
    "        idx = torch.randperm(n)\n",
    "\n",
    "        for i in idx:\n",
    "            xi = X[i].unsqueeze(0)\n",
    "            yi = y[i].unsqueeze(0)\n",
    "\n",
    "            grad = comp_grad(xi, yi, theta)\n",
    "            theta -= lr * grad\n",
    "\n",
    "            path.append(theta.clone().numpy())\n",
    "            steps += 1\n",
    "            if torch.norm(theta - theta_star) < eps:\n",
    "                losses.append(mse_loss(X, y, theta).item())\n",
    "                return theta, losses, np.array(path), steps\n",
    "\n",
    "        losses.append(mse_loss(X, y, theta).item())\n",
    "    return theta, losses, np.array(path), steps"
   ]
  },
  {
   "cell_type": "code",
   "execution_count": null,
   "id": "a1f4110d",
   "metadata": {},
   "outputs": [],
   "source": []
  }
 ],
 "metadata": {
  "kernelspec": {
   "display_name": "Python 3",
   "language": "python",
   "name": "python3"
  },
  "language_info": {
   "codemirror_mode": {
    "name": "ipython",
    "version": 3
   },
   "file_extension": ".py",
   "mimetype": "text/x-python",
   "name": "python",
   "nbconvert_exporter": "python",
   "pygments_lexer": "ipython3",
   "version": "3.11.9"
  }
 },
 "nbformat": 4,
 "nbformat_minor": 5
}
